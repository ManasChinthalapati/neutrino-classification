{
 "cells": [
  {
   "cell_type": "markdown",
   "metadata": {},
   "source": [
    "# Neutrino event classification\n",
    "\n",
    "This mini-project's dataset is comprised of a number of small files containing images of simulated neutrino interactions in a hypothetical detector that looks an awful lot like the detectors of the NOvA experiment. For each neutrino interaction the images consist of two $100 \\times 80$ pixel images that represent the $x \\times z$ and $y \\times z$ projections of the tracks of particles in the detector.\n",
    "\n",
    "The data for this mini-project comes in the form of the following files:\n",
    "\n",
    "| File | Description |\n",
    "| ----------- | ----------- |\n",
    "| neutrino1.h5 | The 1st HDF5 file containing event images and meta deta |\n",
    "| $\\vdots$ | The middle ones |\n",
    "| neutrino200.h5| The 200th HDF5 file|\n",
    "\n",
    "\n",
    "The images show the energy deposited by simulated neutrinos in a NOvA like detector. Some of the meta information in the hdf5 file is described below\n",
    "\n",
    "| Label | Description |\n",
    "| ----------- | ----------- |\n",
    "| neutrino/nuenergy | Neutrino Energy (GeV) |\n",
    "| neutrino/lepenergy | Lepton Energy (GeV) |\n",
    "| neutrino/finalstate | Interaction |\n",
    "| neutrino/finalstate | Final State |\n",
    " \n",
    "\n",
    "The [PDG code](https://pdg.lbl.gov/2019/reviews/rpp2019-rev-monte-carlo-numbering.pdf) is a number which identifies the particle type (e.g electron=11, electron-neutrino=12, etc.)\n",
    "\n",
    "The $interaction$ says what kind of interaction occured and is defined in the enumeration below.\n",
    "\n",
    "## Machine learning tasks\n",
    "1. Develop a machine learning classifier that can successfully identify $\\nu_\\mu$ charged-current events\n",
    "2. Test your machine learning classifier and investigate how the efficiency of the classifier depends on the meta data variables shown above\n",
    "\n",
    "### Potential extensions\n",
    "1. Write a machine learning algorithm to determine the energy of the neutrino\n",
    "2. Write a machine learning algorithm to determine the flavour of the neutrino\n",
    "3. Write a machine learning algorithm to determine $y=$ lepton energy over neutrino energy\n",
    "4. Write a machine learning algorithm to determine the number of protons or pions\n",
    "5. Write a machine learning algorithm to determine the interaction mode.\n",
    "\n",
    "\n"
   ]
  },
  {
   "cell_type": "code",
   "execution_count": 1,
   "metadata": {},
   "outputs": [
    {
     "name": "stderr",
     "output_type": "stream",
     "text": [
      "/Users/manaschinthalapati/opt/anaconda3/lib/python3.8/site-packages/scipy/__init__.py:138: UserWarning: A NumPy version >=1.16.5 and <1.23.0 is required for this version of SciPy (detected version 1.24.3)\n",
      "  warnings.warn(f\"A NumPy version >={np_minversion} and <{np_maxversion} is required for this version of \"\n"
     ]
    }
   ],
   "source": [
    "import h5py\n",
    "import numpy as np\n",
    "import matplotlib.pyplot as plt \n",
    "import tensorflow as tf\n",
    "from tensorflow import keras\n",
    "\n",
    "from sklearn.metrics import confusion_matrix\n",
    "import seaborn as sns\n",
    "\n",
    "# Added for a progress bar\n",
    "from tqdm import tqdm\n",
    "\n",
    "from keras.models import Model\n",
    "from keras.layers import Input\n",
    "from keras.layers import Conv2D\n",
    "from keras.layers import MaxPooling2D\n",
    "from keras.layers import concatenate\n",
    "\n",
    "# Import for analysising model predicted results\n",
    "from sklearn import metrics\n",
    "from sklearn.preprocessing import MinMaxScaler\n",
    "from sklearn.model_selection import train_test_split\n",
    "from sklearn.utils.class_weight import compute_class_weight"
   ]
  },
  {
   "cell_type": "code",
   "execution_count": 2,
   "metadata": {},
   "outputs": [],
   "source": [
    "import enum \n",
    "class Interaction(enum.Enum):\n",
    "    kNumuQE =0           # Numu CC QE interaction\n",
    "    kNumuRes =1           # Numu CC Resonant interaction\n",
    "    kNumuDIS = 2          # Numu CC DIS interaction\n",
    "    kNumuOther = 3        # Numu CC, other than above\n",
    "    kNueQE = 4            # Nue CC QE interaction\n",
    "    kNueRes = 5           # Nue CC Resonant interaction\n",
    "    kNueDIS = 6           # Nue CC DIS interaction\n",
    "    kNueOther = 7         # Nue CC, other than above\n",
    "    kNutauQE = 8          # Nutau CC QE interaction\n",
    "    kNutauRes = 9         # Nutau CC Resonant interaction\n",
    "    kNutauDIS =10         # Nutau CC DIS interaction\n",
    "    kNutauOther =11       # Nutau CC, other than above\n",
    "    kNuElectronElastic = 12# NC Nu On E Scattering\n",
    "    kNC =13                # NC interaction\n",
    "    kCosmic =14           # Cosmic ray background\n",
    "    kOther =15            # Something else.  Tau?  Hopefully we don't use this\n",
    "    kNIntType=16          # Number of interaction types, used like a vector size\n",
    "\n",
    "    \n",
    "class FinalState(enum.Enum):\n",
    "    kNumu0tr0sh=0          # Numu CC - no track no shower\n",
    "    kNumu0tr1sh=1          # Numu CC - no track  1 shower\n",
    "    kNumu0tr2sh=enum.auto()          # Numu CC - no track  2 shower\n",
    "    kNumu0trMsh=enum.auto()          # Numu CC - no track 3+ shower\n",
    "    kNumu1tr0sh=enum.auto()          # Numu CC -  1 track no shower\n",
    "    kNumu1tr1sh=enum.auto()          # Numu CC -  1 track  1 shower\n",
    "    kNumu1tr2sh=enum.auto()          # Numu CC -  1 track  2 shower\n",
    "    kNumu1trMsh=enum.auto()          # Numu CC -  1 track 3+ shower\n",
    "    kNumu2tr0sh=enum.auto()          # Numu CC -  2 track no shower\n",
    "    kNumu2tr1sh=enum.auto()          # Numu CC -  2 track  1 shower\n",
    "    kNumu2tr2sh=enum.auto()          # Numu CC -  2 track  2 shower\n",
    "    kNumu2trMsh=enum.auto()          # Numu CC -  2 track 3+ shower\n",
    "    kNumuMtr0sh=enum.auto()          # Numu CC - 3+ track no showe\n",
    "    kNumuMtr1sh=enum.auto()          # Numu CC - 3+ track  1 shower\n",
    "    kNumuMtr2sh=enum.auto()          # Numu CC - 3+ track  2 showe\n",
    "    kNumuMtrMsh=enum.auto()          # Numu CC - 3+ track 3+ shower\n",
    "    kNue0tr0sh=enum.auto()           # Nue CC - no track no shower\n",
    "    kNue0tr1sh=enum.auto()           # Nue CC - no track  1 shower\n",
    "    kNue0tr2sh=enum.auto()           # Nue CC - no track  2 showe\n",
    "    kNue0trMsh=enum.auto()           # Nue CC - no track 3+ shower\n",
    "    kNue1tr0sh=enum.auto()           # Nue CC -  1 track no shower\n",
    "    kNue1tr1sh=enum.auto()           # Nue CC -  1 track  1 shower\n",
    "    kNue1tr2sh=enum.auto()           # Nue CC -  1 track  2 shower\n",
    "    kNue1trMsh=enum.auto()           # Nue CC -  1 track 3+ shower\n",
    "    kNue2tr0sh=enum.auto()           # Nue CC -  2 track no shower\n",
    "    kNue2tr1sh=enum.auto()           # Nue CC -  2 track  1 shower\n",
    "    kNue2tr2sh=enum.auto()           # Nue CC -  2 track  2 shower\n",
    "    kNue2trMsh=enum.auto()           # Nue CC -  2 track 3+ shower\n",
    "    kNueMtr0sh=enum.auto()           # Nue CC - 3+ track no shower\n",
    "    kNueMtr1sh=enum.auto()           # Nue CC - 3+ track  1 shower\n",
    "    kNueMtr2sh=enum.auto()           # Nue CC - 3+ track  2 shower\n",
    "    kNueMtrMsh=enum.auto()           # Nue CC - 3+ track 3+ shower\n",
    "    kNC0tr0sh=enum.auto()           # NC CC - no track no shower\n",
    "    kNC0tr1sh=enum.auto()           # NC CC - no track  1 shower\n",
    "    kNC0tr2sh=enum.auto()           # NC CC - no track  2 shower\n",
    "    kNC0trMsh=enum.auto()           # NC CC - no track 3+ shower\n",
    "    kNC1tr0sh=enum.auto()           # NC CC -  1 track no shower\n",
    "    kNC1tr1sh=enum.auto()           # NC CC -  1 track  1 shower\n",
    "    kNC1tr2sh=enum.auto()           # NC CC -  1 track  2 shower\n",
    "    kNC1trMsh=enum.auto()           # NC CC -  1 track 3+ shower\n",
    "    kNC2tr0sh=enum.auto()           # NC CC -  2 track no shower\n",
    "    kNC2tr1sh=enum.auto()           # NC CC -  2 track  1 shower\n",
    "    kNC2tr2sh=enum.auto()           # NC CC -  2 track  2 shower\n",
    "    kNC2trMsh=enum.auto()           # NC CC -  2 track 3+ shower\n",
    "    kNCMtr0sh=enum.auto()           # NC CC - 3+ track no shower\n",
    "    kNCMtr1sh=enum.auto()           # NC CC - 3+ track  1 shower\n",
    "    kNCMtr2sh=enum.auto()           # NC CC - 3+ track  2 shower\n",
    "    kNCMtrMsh=enum.auto()           # NC CC - 3+ track 3+ shower\n",
    "    kCosmicFS=enum.auto()           # Cosmic ray background\n",
    "    kOtherFS=enum.auto()            # Something else.  Tau?  Hopefully we don't use this\n",
    "    kNFStType=enum.auto()            # Number of interaction types, used like a vector size\n",
    "\n"
   ]
  },
  {
   "cell_type": "code",
   "execution_count": 34,
   "metadata": {},
   "outputs": [],
   "source": [
    "# import the urllib library\n",
    "import urllib.request\n",
    "\n",
    "#variable used to store the number of files to be used the the ratio between train and test data\n",
    "files=5\n",
    "ratio=0.75\n",
    "data = {}\n",
    "\n",
    "#loop to store all the data\n",
    "for i in range(1,files+1):\n",
    "# Copy a network object to a local file\n",
    "    name = 'neutrino'+str(i)+'.h5'\n",
    "    urllib.request.urlretrieve('http://www.hep.ucl.ac.uk/undergrad/0056/other/projects/nova/neutrino1.h5', name)\n",
    "    image=h5py.File(name,'r')\n",
    "    data[i]=image\n",
    "#Open the local h5 file with h5py\n",
    "    df=h5py.File('neutrino1.h5','r')"
   ]
  },
  {
   "cell_type": "code",
   "execution_count": 4,
   "metadata": {},
   "outputs": [
    {
     "name": "stdout",
     "output_type": "stream",
     "text": [
      "<KeysViewHDF5 ['cvnmap', 'neutrino']>\n",
      "<KeysViewHDF5 ['cycle', 'evt', 'finalstate', 'finalstateprong', 'interaction', 'lepenergy', 'nuenergy', 'parent', 'particles', 'rec.training.trainingdata_idx', 'run', 'subevt', 'subrun', 'vtxx', 'vtxy', 'vtxz']>\n",
      "(7001, 16000)\n",
      "<HDF5 dataset \"evt\": shape (7001, 1), type \"<u4\">\n"
     ]
    }
   ],
   "source": [
    "#Print the keys in the neutrino meta data\n",
    "print(df.keys())\n",
    "print(df['neutrino'].keys())\n",
    "\n",
    "#Get an numpy array containing the event image, and reshape it from flat to 2x100x80\n",
    "print(np.shape(df['cvnmap']))\n",
    "print(df['neutrino']['evt'])\n",
    "event0=np.array(df['cvnmap'][3]).reshape((2,100,80))"
   ]
  },
  {
   "cell_type": "code",
   "execution_count": 5,
   "metadata": {},
   "outputs": [
    {
     "data": {
      "text/plain": [
       "<matplotlib.image.AxesImage at 0x7f886a6b1910>"
      ]
     },
     "execution_count": 5,
     "metadata": {},
     "output_type": "execute_result"
    },
    {
     "data": {
      "image/png": "[encoded data removed]",
      "text/plain": [
       "<Figure size 432x288 with 2 Axes>"
      ]
     },
     "metadata": {
      "needs_background": "light"
     },
     "output_type": "display_data"
    }
   ],
   "source": [
    "#Plot the first event, look it is a nice long muon track\n",
    "fig, ax = plt.subplots(1,2)\n",
    "ax[0].imshow(event0[1].T)\n",
    "ax[1].imshow(event0[0].T)"
   ]
  },
  {
   "cell_type": "code",
   "execution_count": 6,
   "metadata": {},
   "outputs": [
    {
     "name": "stdout",
     "output_type": "stream",
     "text": [
      "Neutrino Final State code [46]\n",
      "Interaction was  Interaction.kNC\n",
      "Neutrino energy [13.677229] GeV\n",
      "Lepton energy [2.7689836] GeV\n"
     ]
    }
   ],
   "source": [
    "print(\"Neutrino Final State code\",df['neutrino']['finalstate'][3])\n",
    "print(\"Interaction was \",Interaction(df['neutrino']['interaction'][3]))\n",
    "print(\"Neutrino energy\",df['neutrino']['nuenergy'][3],\"GeV\")\n",
    "print(\"Lepton energy\",df['neutrino']['lepenergy'][3],\"GeV\")"
   ]
  },
  {
   "cell_type": "code",
   "execution_count": 7,
   "metadata": {},
   "outputs": [
    {
     "data": {
      "text/plain": [
       "(array([3358., 1891., 1013.,  394.,  184.,   85.,   44.,   14.,    8.,\n",
       "          10.]),\n",
       " array([ 0.      ,  8.229538, 16.459076, 24.688614, 32.91815 , 41.14769 ,\n",
       "        49.377228, 57.606766, 65.8363  , 74.06584 , 82.29538 ],\n",
       "       dtype=float32),\n",
       " <BarContainer object of 10 artists>)"
      ]
     },
     "execution_count": 7,
     "metadata": {},
     "output_type": "execute_result"
    },
    {
     "data": {
      "image/png": "[encoded data removed]",
      "text/plain": [
       "<Figure size 432x288 with 1 Axes>"
      ]
     },
     "metadata": {
      "needs_background": "light"
     },
     "output_type": "display_data"
    }
   ],
   "source": [
    "fs=np.array(df['neutrino']['finalstate'])\n",
    "nuenergy=np.array(df['neutrino']['nuenergy'])\n",
    "fig, ax = plt.subplots()\n",
    "ax.hist(nuenergy) #neutrino energy histogram"
   ]
  },
  {
   "cell_type": "code",
   "execution_count": 8,
   "metadata": {},
   "outputs": [
    {
     "name": "stdout",
     "output_type": "stream",
     "text": [
      "(21003, 100, 80, 2)\n",
      "(21003, 1)\n"
     ]
    }
   ],
   "source": [
    "#imports data from the first file and creates and array for images and labels\n",
    "images = np.array(data[1]['cvnmap'], dtype='float')\n",
    "labels= np.array(data[1]['neutrino']['interaction'],dtype='uint8')\n",
    "\n",
    "#loop that adds more data from the number of specified at the beggining\n",
    "for i in range(2,files):\n",
    "    images = np.concatenate((images , np.array(data[i]['cvnmap'], dtype = 'uint8') ))  \n",
    "    labels= np.concatenate((labels , np.array(data[i]['neutrino']['interaction'], dtype='uint8') )) \n",
    "\n",
    "#the catagory array is used to store the actual values corresponding to the interaction type, to be used later\n",
    "catagory=labels\n",
    "catagory = catagory.reshape(len(catagory))\n",
    "#convertes labels to booleon\n",
    "labels= np.where( labels <= 3, 1,0).astype(bool)\n",
    "#reshapes the image array to fit the CNN input\n",
    "images = images.reshape((images.shape[0],100,80,2))#.transpose(0,2,3,1)\n",
    "print(np.shape(images))\n",
    "print(np.shape(labels))"
   ]
  },
  {
   "cell_type": "code",
   "execution_count": 9,
   "metadata": {},
   "outputs": [],
   "source": [
    "#shuffle all of the data to ensure data is randomly distributed\n",
    "perm = np.random.permutation(len(labels))\n",
    "\n",
    "#make sure to shuffle all arrays together so that elemetns still correspond correctly\n",
    "images_shuffle = images[perm]\n",
    "labels_shuffle = labels[perm]\n",
    "catagory_shuffle = catagory[perm]"
   ]
  },
  {
   "cell_type": "code",
   "execution_count": 10,
   "metadata": {},
   "outputs": [
    {
     "name": "stdout",
     "output_type": "stream",
     "text": [
      "(15752, 100, 80, 2)\n",
      "(15752, 1)\n"
     ]
    }
   ],
   "source": [
    "#splits the data into train and test with the ratio specified at the begining, also splitting catagory array \n",
    "train_images, test_images, train_labels, test_labels, train_catagory, test_catagory = train_test_split(images_shuffle, labels_shuffle, catagory_shuffle, test_size=1-ratio)\n",
    "print(np.shape(train_images))\n",
    "print(np.shape(train_labels))"
   ]
  },
  {
   "cell_type": "code",
   "execution_count": 11,
   "metadata": {},
   "outputs": [],
   "source": [
    "#class_weights = compute_class_weight('balanced', classes=train_labels, y=train_labels)\n",
    "\n",
    "#class_labels = np.unique(train_labels)\n",
    "\n",
    "#neutrino_weight=1.0\n",
    "#not_neutrino_weight = 6.8\n",
    "\n",
    "#neutrino_index = np.where(train_labels==1)[0][0]\n",
    "#not_neutrino_index = np.where(train_labels==0)[0][0]\n",
    "#class_weights = np.ones_like(train_labels, dtype=float)\n",
    "\n",
    "#class_weights[neutrino_index]=neutrino_weight\n",
    "#class_weights[not_neutrino_index]=not_neutrino_weight\n",
    "\n",
    "model2 = keras.Sequential([\n",
    "    \n",
    "    keras.layers.Conv2D(32, (3,3), activation='relu', input_shape=(100,80,2)),\n",
    "    keras.layers.MaxPooling2D((2,2)),\n",
    "    keras.layers.Dropout(0.25),\n",
    "\n",
    "    keras.layers.Conv2D(64, (3,3), activation='relu'),\n",
    "    keras.layers.MaxPooling2D((2,2)),\n",
    "    keras.layers.Dropout(0.25),\n",
    "\n",
    "    keras.layers.Flatten(),\n",
    "    keras.layers.Dense(64,activation='relu'),\n",
    "    keras.layers.Dropout(0.5),\n",
    "    keras.layers.Dense(1, activation='sigmoid')\n",
    "])\n",
    "\n",
    "model2.compile(loss='binary_crossentropy', optimizer='adam', metrics=['accuracy'])"
   ]
  },
  {
   "cell_type": "markdown",
   "metadata": {},
   "source": [
    "Model 2 was the final model used in the programm. It consists of 2 encoder blocks, consisting of a convolution layer to perform feature extraction. A maxpooling layer that downsizes the feature maps generated by the convolution layer. Finally a dropout layer that is used to prevent overfitting."
   ]
  },
  {
   "cell_type": "code",
   "execution_count": 12,
   "metadata": {},
   "outputs": [],
   "source": [
    "#made up of a single encoder bloack, adding another block was found to give better accuracy so this model was not used.\n",
    "model3 = keras.Sequential([\n",
    "    keras.layers.Conv2D(32, (3,3), activation='relu', input_shape=(100,80,2)),\n",
    "    keras.layers.MaxPooling2D((2,2)),\n",
    "    keras.layers.Flatten(),\n",
    "    keras.layers.Dense(10,activation='relu'),\n",
    "    keras.layers.Dense(1, activation='sigmoid')\n",
    "])\n",
    "\n",
    "model3.compile(loss='binary_crossentropy', optimizer='adam', metrics=['accuracy'])"
   ]
  },
  {
   "cell_type": "code",
   "execution_count": 13,
   "metadata": {},
   "outputs": [
    {
     "name": "stdout",
     "output_type": "stream",
     "text": [
      "Epoch 1/20\n",
      "158/158 - 51s - loss: 0.3812 - accuracy: 0.8756 - 51s/epoch - 322ms/step\n",
      "Epoch 2/20\n",
      "158/158 - 49s - loss: 0.2725 - accuracy: 0.8833 - 49s/epoch - 310ms/step\n",
      "Epoch 3/20\n",
      "158/158 - 53s - loss: 0.2275 - accuracy: 0.8909 - 53s/epoch - 334ms/step\n",
      "Epoch 4/20\n",
      "158/158 - 51s - loss: 0.2019 - accuracy: 0.8985 - 51s/epoch - 325ms/step\n",
      "Epoch 5/20\n",
      "158/158 - 51s - loss: 0.1774 - accuracy: 0.9147 - 51s/epoch - 323ms/step\n",
      "Epoch 6/20\n",
      "158/158 - 51s - loss: 0.1614 - accuracy: 0.9259 - 51s/epoch - 323ms/step\n",
      "Epoch 7/20\n",
      "158/158 - 51s - loss: 0.1457 - accuracy: 0.9357 - 51s/epoch - 325ms/step\n",
      "Epoch 8/20\n",
      "158/158 - 51s - loss: 0.1350 - accuracy: 0.9415 - 51s/epoch - 323ms/step\n",
      "Epoch 9/20\n",
      "158/158 - 51s - loss: 0.1227 - accuracy: 0.9465 - 51s/epoch - 325ms/step\n",
      "Epoch 10/20\n",
      "158/158 - 68s - loss: 0.1139 - accuracy: 0.9512 - 68s/epoch - 433ms/step\n",
      "Epoch 11/20\n",
      "158/158 - 52s - loss: 0.1078 - accuracy: 0.9570 - 52s/epoch - 328ms/step\n",
      "Epoch 12/20\n",
      "158/158 - 51s - loss: 0.1018 - accuracy: 0.9576 - 51s/epoch - 321ms/step\n",
      "Epoch 13/20\n",
      "158/158 - 54s - loss: 0.0912 - accuracy: 0.9634 - 54s/epoch - 342ms/step\n",
      "Epoch 14/20\n",
      "158/158 - 55s - loss: 0.0866 - accuracy: 0.9652 - 55s/epoch - 345ms/step\n",
      "Epoch 15/20\n",
      "158/158 - 51s - loss: 0.0868 - accuracy: 0.9653 - 51s/epoch - 321ms/step\n",
      "Epoch 16/20\n",
      "158/158 - 50s - loss: 0.0823 - accuracy: 0.9690 - 50s/epoch - 318ms/step\n",
      "Epoch 17/20\n",
      "158/158 - 50s - loss: 0.0726 - accuracy: 0.9712 - 50s/epoch - 319ms/step\n",
      "Epoch 18/20\n",
      "158/158 - 50s - loss: 0.0731 - accuracy: 0.9727 - 50s/epoch - 318ms/step\n",
      "Epoch 19/20\n",
      "158/158 - 51s - loss: 0.0666 - accuracy: 0.9742 - 51s/epoch - 322ms/step\n",
      "Epoch 20/20\n",
      "158/158 - 52s - loss: 0.0694 - accuracy: 0.9733 - 52s/epoch - 329ms/step\n"
     ]
    }
   ],
   "source": [
    "#fitting the model\n",
    "fitting=model2.fit(train_images, train_labels,batch_size=100, epochs=20, verbose=2)\n",
    "#fitting=model3.fit(train_images_scaled_reshaped, train_labels,batch_size=10, epochs=50, verbose=2, class_weight=dict(zip(class_labels, class_weights)))"
   ]
  },
  {
   "cell_type": "code",
   "execution_count": 16,
   "metadata": {},
   "outputs": [],
   "source": [
    "#fitting=model2.fit(train_images, train_labels, batch_size=200, epochs=10, verbose=2, class_weight=class_weights, validation_data=(test_images, test_labels))\n",
    "\n",
    "#the test data, along with all the data, has a neutrino not neutrino split of 88/12. This means that using a typical test data can give misleading information\n",
    "#the following code balances the test data only so the split is 50/50, this does however reduce the test size.\n",
    "\n",
    "#splitting images and labels by their catagory\n",
    "test_images_n = test_images[test_catagory<=3]\n",
    "test_images_nn = test_images[test_catagory>3]\n",
    "test_labels_n = test_labels[test_catagory<=3]\n",
    "test_labels_nn = test_labels[test_catagory>3]\n",
    "\n",
    "min_class_size = min(len(test_images_n), len(test_images_nn))\n",
    "\n",
    "#balances the data\n",
    "test_images_n_balanced = test_images_n[:min_class_size]\n",
    "test_images_nn_balanced = test_images_nn[:min_class_size]\n",
    "test_labels_n_balanced = test_labels_n[:min_class_size]\n",
    "test_labels_nn_balanced = test_labels_nn[:min_class_size]\n",
    "\n",
    "test_images_balanced = np.concatenate((test_images_n_balanced, test_images_nn_balanced), axis=0)\n",
    "test_labels_balanced = np.concatenate((test_labels_n_balanced, test_labels_nn_balanced), axis=0)"
   ]
  },
  {
   "cell_type": "code",
   "execution_count": 17,
   "metadata": {},
   "outputs": [
    {
     "name": "stdout",
     "output_type": "stream",
     "text": [
      "165/165 - 6s - loss: 0.0542 - accuracy: 0.9806 - 6s/epoch - 35ms/step\n",
      "42/42 - 1s - loss: 0.1764 - accuracy: 0.9362 - 1s/epoch - 31ms/step\n"
     ]
    }
   ],
   "source": [
    "#finds the accuracy of both the initial test data and the balanced test data\n",
    "loss, acc = model2.evaluate(test_images, test_labels, verbose=2)\n",
    "loss, acc = model2.evaluate(test_images_balanced, test_labels_balanced, verbose=2)"
   ]
  },
  {
   "cell_type": "markdown",
   "metadata": {},
   "source": [
    "We see that we get an accuracy of roughly 98%, specific value varies by run, for the accuracy of predition on un-balanced test data, however this drops to roughly 94% when we used a balanced test. "
   ]
  },
  {
   "cell_type": "code",
   "execution_count": 18,
   "metadata": {},
   "outputs": [
    {
     "name": "stdout",
     "output_type": "stream",
     "text": [
      "165/165 [==============================] - 6s 35ms/step\n",
      "42/42 [==============================] - 1s 34ms/step\n"
     ]
    }
   ],
   "source": [
    "#collects predicted data to be used to plot a confusion matrix, threshold has been set to 0.5, as for some models the network would output prediction in the range 0-1. \n",
    "#the output of model2 still has outputs the have a slight distribution, however they are more conectrated to 0 and 1, so changing the threshold function doesn't seem to change the accuracy too much\n",
    "predicted2 = model2.predict(test_images, verbose=1)\n",
    "threshold2 = 0.5\n",
    "predicted_binary2 = (predicted2 >= threshold2).astype(int)\n",
    "predicted_binary2 = predicted_binary2.flatten()\n",
    "\n",
    "predicted3 = model2.predict(test_images_balanced, verbose=1)\n",
    "threshold3 = 0.5\n",
    "predicted_binary3 = (predicted3 >= threshold3).astype(int)\n",
    "predicted_binary3 = predicted_binary3.flatten()\n",
    "\n",
    "#predicted4 = model4.predict(test_images, verbose=1)\n",
    "#threshold4 = 0.5\n",
    "#predicted_binary4 = (predicted4 >= threshold4).astype(int)\n",
    "#predicted_binary4 = predicted_binary4.flatten()\n",
    "\n",
    "#predicted = model.predict(test_images, verbose=1)\n",
    "#threshold = 0.5\n",
    "#predicted_binary = (predicted >= threshold).astype(int)\n",
    "#predicted_binary = predicted_binary.flatten()\n",
    "\n",
    "#ensemble_predicted = (predicted_binary3+predicted_binary2)/2\n",
    "#ensemble_threshold = 0.5\n",
    "#ensemble_predicted_binary = (ensemble_predicted >= ensemble_threshold).astype(int)\n",
    "#ensemble_predicted_binary = ensemble_predicted_binary.flatten()"
   ]
  },
  {
   "cell_type": "code",
   "execution_count": 25,
   "metadata": {},
   "outputs": [
    {
     "data": {
      "text/plain": [
       "Text(91.68, 0.5, 'Actual label')"
      ]
     },
     "execution_count": 25,
     "metadata": {},
     "output_type": "execute_result"
    },
    {
     "data": {
      "image/png": "[encoded data removed]",
      "text/plain": [
       "<Figure size 432x288 with 1 Axes>"
      ]
     },
     "metadata": {
      "needs_background": "light"
     },
     "output_type": "display_data"
    }
   ],
   "source": [
    "mat = confusion_matrix(test_labels, np.round(predicted_binary2))\n",
    "labels = ['Non-Neutrino', 'Neutrino']\n",
    " \n",
    "sns.heatmap(mat, square=True, annot=True, fmt='d', cbar=False, cmap='Blues',\n",
    "            xticklabels=labels, yticklabels=labels)\n",
    " \n",
    "plt.title('Confusion Matrix of unbalanced test data')\n",
    "plt.xlabel('Predicted label')\n",
    "plt.ylabel('Actual label')"
   ]
  },
  {
   "cell_type": "code",
   "execution_count": 27,
   "metadata": {},
   "outputs": [
    {
     "data": {
      "text/plain": [
       "Text(91.68, 0.5, 'Actual label')"
      ]
     },
     "execution_count": 27,
     "metadata": {},
     "output_type": "execute_result"
    },
    {
     "data": {
      "image/png": "[encoded data removed]",
      "text/plain": [
       "<Figure size 432x288 with 1 Axes>"
      ]
     },
     "metadata": {
      "needs_background": "light"
     },
     "output_type": "display_data"
    }
   ],
   "source": [
    "mat = confusion_matrix(test_labels_balanced, np.round(predicted_binary3))\n",
    "labels = ['Non-Neutrino', 'Neutrino']\n",
    " \n",
    "sns.heatmap(mat, square=True, annot=True, fmt='d', cbar=False, cmap='Blues',\n",
    "            xticklabels=labels, yticklabels=labels)\n",
    " \n",
    "plt.title('Confusion Matrix of balanced test data') \n",
    "plt.xlabel('Predicted label')\n",
    "plt.ylabel('Actual label')"
   ]
  },
  {
   "cell_type": "markdown",
   "metadata": {},
   "source": [
    "From the 2 confusion matrices above we confirm that the accuracy of the model at predicting the not-neutrino catagory is lowers, on the other hand the models ability to predict neutrino is excellent. However this is to be expected as we have much less data of the not-neutrino catagory. \n",
    "\n",
    "This could be solved by balancing the train data, however this will drastically reduce the data set."
   ]
  },
  {
   "cell_type": "markdown",
   "metadata": {},
   "source": [
    "## Task 2"
   ]
  },
  {
   "cell_type": "markdown",
   "metadata": {},
   "source": [
    "QE: 0,4,8\n",
    "Res: 1,5,9\n",
    "Des: 2,6,10"
   ]
  },
  {
   "cell_type": "code",
   "execution_count": 22,
   "metadata": {},
   "outputs": [],
   "source": [
    "#splits the test data up by the type of interaction\n",
    "QE_images = test_images[test_catagory > (0 or 4 or 8)]\n",
    "Res_images = test_images[test_catagory > (1 or 5 or 9)]\n",
    "Des_images = test_images[test_catagory > (2 or 6 or 10)]\n",
    "other_images = test_images[test_catagory > (3 or 7 or 11 or 12 or 13 or 14 or 15 or 16)]\n",
    "\n",
    "QE_labels = test_labels[test_catagory > (0 or 4 or 8)]\n",
    "Res_labels = test_labels[test_catagory > (1 or 5 or 9)]\n",
    "Des_labels = test_labels[test_catagory > (2 or 6 or 10)]\n",
    "other_labels = test_labels[test_catagory > (3 or 7 or 11 or 12 or 13 or 14 or 15 or 16)]"
   ]
  },
  {
   "cell_type": "code",
   "execution_count": 23,
   "metadata": {},
   "outputs": [
    {
     "name": "stdout",
     "output_type": "stream",
     "text": [
      "21/21 - 1s - loss: 0.3362 - accuracy: 0.8798 - 762ms/epoch - 36ms/step\n",
      "112/112 - 4s - loss: 0.0734 - accuracy: 0.9736 - 4s/epoch - 33ms/step\n",
      "25/25 - 1s - loss: 0.2845 - accuracy: 0.8973 - 844ms/epoch - 34ms/step\n",
      "21/21 - 1s - loss: 0.3388 - accuracy: 0.8769 - 736ms/epoch - 35ms/step\n"
     ]
    }
   ],
   "source": [
    "#finds the accuracy of the model on all the the different type of interaction\n",
    "loss_QE, acc_QE = model2.evaluate(QE_images, QE_labels, verbose=2)\n",
    "loss_Res, acc_Res = model2.evaluate(Res_images, Res_labels, verbose=2)\n",
    "loss_Des, acc_Des = model2.evaluate(Des_images, Des_labels, verbose=2)\n",
    "loss_other, acc_other = model2.evaluate(other_images, other_labels, verbose=2)"
   ]
  },
  {
   "cell_type": "markdown",
   "metadata": {},
   "source": [
    "QE referse to clear tracks, Des refer to messier tracks, and Res is somewhere imbetween. So we would expect QE would have the best accuracy and for the accuracy would go down from Res to Des. However this appears to not be the case as Res, has the best accuracy by quite a large margin."
   ]
  },
  {
   "cell_type": "code",
   "execution_count": 28,
   "metadata": {},
   "outputs": [
    {
     "name": "stdout",
     "output_type": "stream",
     "text": [
      "(649, 1)\n",
      "(3556, 1)\n",
      "(789, 1)\n"
     ]
    }
   ],
   "source": [
    "print(np.shape(QE_labels))\n",
    "print(np.shape(Res_labels))\n",
    "print(np.shape(Des_labels))"
   ]
  },
  {
   "cell_type": "markdown",
   "metadata": {},
   "source": [
    "By outputting the shape of the catagory arrays we see clearly why this is the case. Res has the most number of data points, which is likely why the accuracy is significanlty higher. Instead of taking a larger data set(which I could do in this example but to simulate a real project and to save time), we will re-train the data on a smaller set with more balanced catagories"
   ]
  },
  {
   "cell_type": "code",
   "execution_count": 35,
   "metadata": {},
   "outputs": [],
   "source": [
    "#splitting images and labels by their catagory\n",
    "test_images_QE = test_images[test_catagory > (0 or 4 or 8)]\n",
    "test_images_Res = test_images[test_catagory > (1 or 5 or 9)]\n",
    "test_images_Des = test_images[test_catagory > (2 or 6 or 10)]\n",
    "\n",
    "test_labels_QE = test_labels[test_catagory > (0 or 4 or 8)]\n",
    "test_labels_Res = test_labels[test_catagory > (1 or 5 or 9)]\n",
    "test_labels_Des = test_labels[test_catagory > (2 or 6 or 10)]\n",
    "\n",
    "min_class_size = min(len(test_images_QE), len(test_images_Des))\n",
    "\n",
    "#balances the data\n",
    "test_images_QE_balanced = test_images_QE[:min_class_size]\n",
    "test_images_Res_balanced = test_images_Res[:min_class_size]\n",
    "test_images_Des_balanced = test_images_Des[:min_class_size]\n",
    "test_labels_QE_balanced = test_labels_QE[:min_class_size]\n",
    "test_labels_Res_balanced = test_labels_Res[:min_class_size]\n",
    "test_labels_Des_balanced = test_labels_Des[:min_class_size]\n",
    "\n",
    "test_images_balanced_cb = np.concatenate((test_images_QE_balanced, test_images_Res_balanced, test_images_Des_balanced), axis=0)\n",
    "test_labels_balanced_cb = np.concatenate((test_labels_QE_balanced, test_labels_Res_balanced, test_labels_Des_balanced), axis=0)"
   ]
  },
  {
   "cell_type": "code",
   "execution_count": 36,
   "metadata": {},
   "outputs": [],
   "source": [
    "#splitting images and labels by their catagory\n",
    "train_images_QE = train_images[train_catagory > (0 or 4 or 8)]\n",
    "train_images_Res = train_images[train_catagory > (1 or 5 or 9)]\n",
    "train_images_Des = train_images[train_catagory > (2 or 6 or 10)]\n",
    "\n",
    "train_labels_QE = train_labels[train_catagory > (0 or 4 or 8)]\n",
    "train_labels_Res = train_labels[train_catagory > (1 or 5 or 9)]\n",
    "train_labels_Des = train_labels[train_catagory > (2 or 6 or 10)]\n",
    "\n",
    "min_class_size = min(len(train_images_QE), len(train_images_Des))\n",
    "\n",
    "#balances the data\n",
    "train_images_QE_balanced = train_images_QE[:min_class_size]\n",
    "train_images_Res_balanced = train_images_Res[:min_class_size]\n",
    "train_images_Des_balanced = train_images_Des[:min_class_size]\n",
    "train_labels_QE_balanced = train_labels_QE[:min_class_size]\n",
    "train_labels_Res_balanced = train_labels_Res[:min_class_size]\n",
    "train_labels_Des_balanced = train_labels_Des[:min_class_size]\n",
    "\n",
    "train_images_balanced_cb = np.concatenate((test_images_QE_balanced, test_images_Res_balanced, test_images_Des_balanced), axis=0)\n",
    "train_labels_balanced_cb = np.concatenate((test_labels_QE_balanced, test_labels_Res_balanced, test_labels_Des_balanced), axis=0)"
   ]
  },
  {
   "cell_type": "code",
   "execution_count": 37,
   "metadata": {},
   "outputs": [
    {
     "name": "stdout",
     "output_type": "stream",
     "text": [
      "Epoch 1/20\n",
      "20/20 - 7s - loss: 0.2566 - accuracy: 0.9147 - 7s/epoch - 343ms/step\n",
      "Epoch 2/20\n",
      "20/20 - 7s - loss: 0.1836 - accuracy: 0.9538 - 7s/epoch - 332ms/step\n",
      "Epoch 3/20\n",
      "20/20 - 7s - loss: 0.1464 - accuracy: 0.9579 - 7s/epoch - 334ms/step\n",
      "Epoch 4/20\n",
      "20/20 - 7s - loss: 0.1373 - accuracy: 0.9625 - 7s/epoch - 326ms/step\n",
      "Epoch 5/20\n",
      "20/20 - 7s - loss: 0.1379 - accuracy: 0.9625 - 7s/epoch - 335ms/step\n",
      "Epoch 6/20\n",
      "20/20 - 7s - loss: 0.1126 - accuracy: 0.9753 - 7s/epoch - 331ms/step\n",
      "Epoch 7/20\n",
      "20/20 - 7s - loss: 0.0998 - accuracy: 0.9718 - 7s/epoch - 331ms/step\n",
      "Epoch 8/20\n",
      "20/20 - 7s - loss: 0.0964 - accuracy: 0.9748 - 7s/epoch - 331ms/step\n",
      "Epoch 9/20\n",
      "20/20 - 6s - loss: 0.0808 - accuracy: 0.9769 - 6s/epoch - 324ms/step\n",
      "Epoch 10/20\n",
      "20/20 - 6s - loss: 0.0821 - accuracy: 0.9805 - 6s/epoch - 324ms/step\n",
      "Epoch 11/20\n",
      "20/20 - 7s - loss: 0.0720 - accuracy: 0.9795 - 7s/epoch - 328ms/step\n",
      "Epoch 12/20\n",
      "20/20 - 7s - loss: 0.0708 - accuracy: 0.9810 - 7s/epoch - 327ms/step\n",
      "Epoch 13/20\n",
      "20/20 - 7s - loss: 0.0696 - accuracy: 0.9820 - 7s/epoch - 347ms/step\n",
      "Epoch 14/20\n",
      "20/20 - 7s - loss: 0.0547 - accuracy: 0.9861 - 7s/epoch - 338ms/step\n",
      "Epoch 15/20\n",
      "20/20 - 7s - loss: 0.0690 - accuracy: 0.9825 - 7s/epoch - 357ms/step\n",
      "Epoch 16/20\n",
      "20/20 - 7s - loss: 0.0601 - accuracy: 0.9810 - 7s/epoch - 329ms/step\n",
      "Epoch 17/20\n",
      "20/20 - 7s - loss: 0.0591 - accuracy: 0.9831 - 7s/epoch - 336ms/step\n",
      "Epoch 18/20\n",
      "20/20 - 7s - loss: 0.0516 - accuracy: 0.9877 - 7s/epoch - 333ms/step\n",
      "Epoch 19/20\n",
      "20/20 - 7s - loss: 0.0520 - accuracy: 0.9866 - 7s/epoch - 355ms/step\n",
      "Epoch 20/20\n",
      "20/20 - 7s - loss: 0.0423 - accuracy: 0.9902 - 7s/epoch - 368ms/step\n"
     ]
    }
   ],
   "source": [
    "fitting=model2.fit(train_images_balanced_cb, train_labels_balanced_cb,batch_size=100, epochs=20, verbose=2)"
   ]
  },
  {
   "cell_type": "code",
   "execution_count": 39,
   "metadata": {},
   "outputs": [
    {
     "name": "stdout",
     "output_type": "stream",
     "text": [
      "21/21 - 1s - loss: 0.0054 - accuracy: 1.0000 - 706ms/epoch - 34ms/step\n",
      "112/112 - 4s - loss: 0.1546 - accuracy: 0.9373 - 4s/epoch - 32ms/step\n",
      "25/25 - 1s - loss: 0.0055 - accuracy: 1.0000 - 860ms/epoch - 34ms/step\n"
     ]
    }
   ],
   "source": [
    "#finds the accuracy of the model on all the the different type of interaction\n",
    "loss_QE, acc_QE = model2.evaluate(test_images_QE, test_labels_QE, verbose=2)\n",
    "loss_Res, acc_Res = model2.evaluate(test_images_Res, test_labels_Res, verbose=2)\n",
    "loss_Des, acc_Des = model2.evaluate(test_images_Des, test_labels_Des, verbose=2)\n"
   ]
  },
  {
   "cell_type": "markdown",
   "metadata": {},
   "source": [
    "Now after retraining the model on a balanced data set, the accuracy of the prediction of QE and Des increase to become closer the accuracy of Res. Showing that the model has good prediction for all 3 cataogries, and any discrepencies is mainly due to sampling distribution."
   ]
  }
 ],
 "metadata": {
  "kernelspec": {
   "display_name": "Python 3.8.8 ('base')",
   "language": "python",
   "name": "python3"
  },
  "language_info": {
   "codemirror_mode": {
    "name": "ipython",
    "version": 3
   },
   "file_extension": ".py",
   "mimetype": "text/x-python",
   "name": "python",
   "nbconvert_exporter": "python",
   "pygments_lexer": "ipython3",
   "version": "3.8.8"
  },
  "vscode": {
   "interpreter": {
    "hash": "004fa6b1368ddfa1d772ebcf74e66256883937dfd82d6a65964c117705304142"
   }
  }
 },
 "nbformat": 4,
 "nbformat_minor": 4
}
